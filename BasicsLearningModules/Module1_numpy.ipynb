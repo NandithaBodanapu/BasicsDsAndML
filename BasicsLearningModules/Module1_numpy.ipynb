{
 "cells": [
  {
   "cell_type": "code",
   "execution_count": null,
   "id": "initial_id",
   "metadata": {
    "collapsed": true
   },
   "outputs": [],
   "source": "#This nodebook contains basic numpy exercises"
  },
  {
   "metadata": {
    "ExecuteTime": {
     "end_time": "2025-01-15T18:17:10.573372Z",
     "start_time": "2025-01-15T18:17:10.482968Z"
    }
   },
   "cell_type": "code",
   "source": [
    "import numpy as np\n",
    "from numpy import dtype\n",
    "\n",
    "#creating 1d array using numpy\n",
    "ar1_1d=np.array([10,20,30,40])\n",
    "print(ar1_1d)\n",
    "print(ar1_1d.dtype) # defines the data type\n",
    "ar2_dtype=np.array([5.5,6.6,7.7,8.8],dtype=float)\n",
    "print(ar2_dtype, ar2_dtype.dtype)\n",
    "\n",
    "#vectorized operations example\n",
    "listexample=[1,2,3,4]\n",
    "nparr=np.array([1,2,3,4])\n",
    "print(listexample*2) # it duplicates the list\n",
    "print(nparr+2)\n",
    "print(nparr*2)# multiplies each element\n",
    "\n"
   ],
   "id": "45ee71af052d284b",
   "outputs": [
    {
     "name": "stdout",
     "output_type": "stream",
     "text": [
      "[10 20 30 40]\n",
      "int64\n",
      "[5.5 6.6 7.7 8.8] float64\n",
      "[1, 2, 3, 4, 1, 2, 3, 4]\n",
      "[3 4 5 6]\n",
      "[2 4 6 8]\n"
     ]
    }
   ],
   "execution_count": 2
  },
  {
   "metadata": {
    "ExecuteTime": {
     "end_time": "2025-01-15T18:17:17.172994Z",
     "start_time": "2025-01-15T18:17:17.163021Z"
    }
   },
   "cell_type": "code",
   "source": [
    "#creating arrays using numpy features\n",
    "print(\"all zeros\\n\", np.zeros(4))\n",
    "print(\"all ones\\n\",np.ones(4))\n",
    "print(\"range of 0-10, step up by 4\\n\",np.arange(0,10,4))\n",
    "print(\"linspace minval,maxval, number of vals\\n\",np.linspace(0,3,15))\n",
    "print(\" random 2X2 matrix\\n\",np.random.random((2,2)))\n",
    "print(\" 2D random 4X4 matrix in range of 1-10\\n\",np.random.randint(1,10,(4,4)))\n",
    "print(\" 3D random  matrix in range of 1-10\\n\",np.random.randint(1,10,(3,3,3)))\n"
   ],
   "id": "22c2e3a37706463b",
   "outputs": [
    {
     "name": "stdout",
     "output_type": "stream",
     "text": [
      "all zeros\n",
      " [0. 0. 0. 0.]\n",
      "all ones\n",
      " [1. 1. 1. 1.]\n",
      "range of 0-10, step up by 4\n",
      " [0 4 8]\n",
      "linspace minval,maxval, number of vals\n",
      " [0.         0.21428571 0.42857143 0.64285714 0.85714286 1.07142857\n",
      " 1.28571429 1.5        1.71428571 1.92857143 2.14285714 2.35714286\n",
      " 2.57142857 2.78571429 3.        ]\n",
      " random 2X2 matrix\n",
      " [[0.34727723 0.02726324]\n",
      " [0.13749025 0.51388601]]\n",
      " 2D random 4X4 matrix in range of 1-10\n",
      " [[1 8 6 8]\n",
      " [7 5 6 6]\n",
      " [7 4 8 5]\n",
      " [9 1 6 1]]\n",
      " 3D random  matrix in range of 1-10\n",
      " [[[2 7 6]\n",
      "  [8 1 6]\n",
      "  [4 9 3]]\n",
      "\n",
      " [[3 6 1]\n",
      "  [3 6 6]\n",
      "  [3 4 5]]\n",
      "\n",
      " [[7 1 8]\n",
      "  [3 2 7]\n",
      "  [7 9 7]]]\n"
     ]
    }
   ],
   "execution_count": 3
  },
  {
   "metadata": {
    "ExecuteTime": {
     "end_time": "2025-01-15T18:18:35.593723Z",
     "start_time": "2025-01-15T18:18:35.587412Z"
    }
   },
   "cell_type": "code",
   "source": [
    "#View and copy\n",
    "#copy is new array\n",
    "#view is the original array\n",
    "CV_Arr=np.arange(5,20)\n",
    "print(CV_Arr)\n",
    "c_arr=CV_Arr.copy()\n",
    "v_arr=CV_Arr.view()\n",
    "CV_Arr[0]=1\n",
    "print(\"After transpose\\n\",CV_Arr)\n",
    "print(\"After transpose, copuy array\\n\",c_arr)\n",
    "print(\"After transpose,view of array\\n\",v_arr)"
   ],
   "id": "5208573cff605f3e",
   "outputs": [
    {
     "name": "stdout",
     "output_type": "stream",
     "text": [
      "[ 5  6  7  8  9 10 11 12 13 14 15 16 17 18 19]\n",
      "After transpose\n",
      " [ 1  6  7  8  9 10 11 12 13 14 15 16 17 18 19]\n",
      "After transpose, copuy array\n",
      " [ 5  6  7  8  9 10 11 12 13 14 15 16 17 18 19]\n",
      "After transpose,view of array\n",
      " [ 1  6  7  8  9 10 11 12 13 14 15 16 17 18 19]\n"
     ]
    }
   ],
   "execution_count": 5
  },
  {
   "metadata": {
    "ExecuteTime": {
     "end_time": "2025-01-10T19:51:51.902440Z",
     "start_time": "2025-01-10T19:51:51.895221Z"
    }
   },
   "cell_type": "code",
   "source": [
    "#Array attributes\n",
    "arrattr=np.array([[1,2,3],[5,6,7]])\n",
    "print(\"array \\n\",arrattr)\n",
    "print(\"array size\\n\",arrattr.size)# number of elements\n",
    "print(\"array dtype \\n\",arrattr.dtype)\n",
    "print(\"array shape \\n\",arrattr.shape)\n",
    "print(\"array itemsize\\n\",arrattr.itemsize)# bytesize of each element\n",
    "print(\"array numbe of dimension\\n\",arrattr.ndim)\n",
    "print(\"array number of bytes\\n\",arrattr.nbytes)\n"
   ],
   "id": "1db0a8ad65c45554",
   "outputs": [
    {
     "name": "stdout",
     "output_type": "stream",
     "text": [
      "array \n",
      " [[1 2 3]\n",
      " [5 6 7]]\n",
      "array size\n",
      " 6\n",
      "array dtype \n",
      " int64\n",
      "array shape \n",
      " (2, 3)\n",
      "array itemsize\n",
      " 8\n",
      "array numbe of dimension\n",
      " 2\n",
      "array number of bytes\n",
      " 48\n"
     ]
    }
   ],
   "execution_count": 18
  },
  {
   "metadata": {
    "ExecuteTime": {
     "end_time": "2025-01-15T19:02:22.990184Z",
     "start_time": "2025-01-15T19:02:22.984985Z"
    }
   },
   "cell_type": "code",
   "source": [
    "#basic math operations\n",
    "math_oper=[1,2,3,4,5]\n",
    "print(math_oper)\n",
    "print(np.sum(math_oper))\n",
    "print(np.add(math_oper,10))\n",
    "print(np.subtract(math_oper,1))\n",
    "print(np.multiply(math_oper,3))\n",
    "print(np.power(math_oper,2))\n",
    "\n",
    "#Trignometric Operations\n",
    "theta=np.array([0,30,45,60,90])\n",
    "print(theta)\n",
    "print(np.sin(theta))\n",
    "print(np.cos(theta))\n",
    "print(np.tan(theta))\n",
    "\n",
    "#Logarithmic function\n",
    "log_example=[1,10,100]\n",
    "print(log_example)\n",
    "print(np.log(log_example))\n",
    "print(np.log2(log_example))\n",
    "print(np.log10(log_example))\n"
   ],
   "id": "de1cf51354d9f969",
   "outputs": [
    {
     "name": "stdout",
     "output_type": "stream",
     "text": [
      "[1, 2, 3, 4, 5]\n",
      "15\n",
      "[11 12 13 14 15]\n",
      "[0 1 2 3 4]\n",
      "[ 3  6  9 12 15]\n",
      "[ 1  4  9 16 25]\n",
      "[ 0 30 45 60 90]\n",
      "[ 0.         -0.98803162  0.85090352 -0.30481062  0.89399666]\n",
      "[ 1.          0.15425145  0.52532199 -0.95241298 -0.44807362]\n",
      "[ 0.         -6.4053312   1.61977519  0.32004039 -1.99520041]\n",
      "[1, 10, 100]\n",
      "[0.         2.30258509 4.60517019]\n",
      "[0.         3.32192809 6.64385619]\n",
      "[0. 1. 2.]\n"
     ]
    }
   ],
   "execution_count": 28
  },
  {
   "metadata": {
    "ExecuteTime": {
     "end_time": "2025-01-15T19:46:01.862839Z",
     "start_time": "2025-01-15T19:46:01.842928Z"
    }
   },
   "cell_type": "code",
   "source": [
    "#Reduce\n",
    "reduce_example=[1,2,3,4,5,6]\n",
    "print(reduce_example)\n",
    "print(np.add.reduce(reduce_example))\n",
    "#Accumulate\n",
    "print(np.add.accumulate(reduce_example))\n",
    "#aggregation\n",
    "# mean,median ,min,max\n",
    "example_aggregation=np.arange(1,10).reshape(3,3)\n",
    "print(example_aggregation)\n",
    "print(np.mean(example_aggregation))\n",
    "print(np.median(example_aggregation))\n",
    "print(np.min(example_aggregation))\n",
    "print(np.max(example_aggregation))\n",
    "print(np.std(example_aggregation))\n",
    "print(\"min column\",np.amin(example_aggregation,0))\n",
    "print(\"min row\", np.amin(example_aggregation,1))\n",
    "print(\"max column\",np.amax(example_aggregation,0))\n",
    "print(\"max row\", np.amax(example_aggregation,1))\n"
   ],
   "id": "3e0189e50542e2ab",
   "outputs": [
    {
     "name": "stdout",
     "output_type": "stream",
     "text": [
      "[1, 2, 3, 4, 5, 6]\n",
      "21\n",
      "[ 1  3  6 10 15 21]\n",
      "[[1 2 3]\n",
      " [4 5 6]\n",
      " [7 8 9]]\n",
      "5.0\n",
      "5.0\n",
      "1\n",
      "9\n",
      "2.581988897471611\n",
      "min column [1 2 3]\n",
      "min row [1 4 7]\n",
      "max column [7 8 9]\n",
      "max row [3 6 9]\n"
     ]
    }
   ],
   "execution_count": 38
  },
  {
   "metadata": {
    "ExecuteTime": {
     "end_time": "2025-01-15T19:51:15.602725Z",
     "start_time": "2025-01-15T19:51:15.592050Z"
    }
   },
   "cell_type": "code",
   "source": [
    "#boolean mask\n",
    "bool_example=np.random.randint(4,25,(3,3))\n",
    "print(bool_example)\n",
    "print(20<bool_example)\n",
    "print(bool_example [bool_example>20])"
   ],
   "id": "d8bb99cc8db05d87",
   "outputs": [
    {
     "name": "stdout",
     "output_type": "stream",
     "text": [
      "[[20 13 19]\n",
      " [13 13 10]\n",
      " [16 20 23]]\n",
      "[[False False False]\n",
      " [False False False]\n",
      " [False False  True]]\n",
      "[23]\n"
     ]
    }
   ],
   "execution_count": 42
  },
  {
   "metadata": {
    "ExecuteTime": {
     "end_time": "2025-01-11T05:59:10.610973Z",
     "start_time": "2025-01-11T05:59:10.605980Z"
    }
   },
   "cell_type": "code",
   "source": [
    "#Array Indexing\n",
    "#1d array\n",
    "arr_indx=np.array([1,2,3,4,5,6,7,8,9])\n",
    "print(\"example 1d array\",arr_indx)\n",
    "print(\"Accesing array elements by array location 0 :\",arr_indx[0])\n",
    "print(\"Accesing array elements from end,using negative number -1 :\",arr_indx[-1])\n",
    "#Array slicing 1D [start:stop:step]\n",
    "print(\"Slicing array [2:4]\",arr_indx[2:4])\n",
    "print(\"Slicing array [1:6:2]\",arr_indx[1:6:2])\n",
    "print(\"Slicing array [1: :3]\",arr_indx[1: :3])\n",
    "print(\"Slicing array [::-1]\",arr_indx[::-1])\n",
    "#slicing just projects the values \n",
    "print(arr_indx)\n",
    "\n"
   ],
   "id": "b5148e64ef9baef5",
   "outputs": [
    {
     "name": "stdout",
     "output_type": "stream",
     "text": [
      "example 1d array [1 2 3 4 5 6 7 8 9]\n",
      "Accesing array elements by array location 0 : 1\n",
      "Accesing array elements from end,using negative number -1 : 9\n",
      "Slicing array [2:4] [3 4]\n",
      "Slicing array [1:6:2] [2 4 6]\n",
      "Slicing array [1: :3] [2 5 8]\n",
      "Slicing array [::-1] [9 8 7 6 5 4 3 2 1]\n",
      "[1 2 3 4 5 6 7 8 9]\n"
     ]
    }
   ],
   "execution_count": 30
  },
  {
   "metadata": {
    "ExecuteTime": {
     "end_time": "2025-01-11T06:32:40.316468Z",
     "start_time": "2025-01-11T06:32:40.303929Z"
    }
   },
   "cell_type": "code",
   "source": [
    "#two dimentional array\n",
    "arr_ndimention=np.array([[10,20,30],[40,50,60],[70,80,90]])\n",
    "print(\"multi dimentional array\",arr_ndimention)\n",
    "print(\"[0,0] :\",arr_ndimention[0,0],\"\\n[2,2] :\",arr_ndimention[2,2])\n",
    "print(\"[-1,-1] :\",arr_ndimention[-1,-1],\"\\n[-3,-1] :\",arr_ndimention[-3,-1])\n",
    "#updating two dimentional array\n",
    "arr_ndimention[2,2]=99\n",
    "print(\"the new 2d array after updation \\n\", arr_ndimention)\n",
    "#slicing 2d array\n",
    "print(\"2d [:2,:2]\\n\",arr_ndimention[:2,:2])\n",
    "print(\"2d[1:,1:]\\n\",arr_ndimention[1:,1:])\n",
    "print(\"2d[::-1,::-1]\\n\",arr_ndimention[::-1,::-1])\n"
   ],
   "id": "6249197483f45c03",
   "outputs": [
    {
     "name": "stdout",
     "output_type": "stream",
     "text": [
      "multi dimentional array [[10 20 30]\n",
      " [40 50 60]\n",
      " [70 80 90]]\n",
      "[0,0] : 10 \n",
      "[2,2] : 90\n",
      "[-1,-1] : 90 \n",
      "[-3,-1] : 30\n",
      "the new 2d array after updation \n",
      " [[10 20 30]\n",
      " [40 50 60]\n",
      " [70 80 99]]\n",
      "2d [:2,:2]\n",
      " [[10 20]\n",
      " [40 50]]\n",
      "2d[1:,1:]\n",
      " [[50 60]\n",
      " [80 99]]\n",
      "2d[::-1,::-1]\n",
      " [[99 80 70]\n",
      " [60 50 40]\n",
      " [30 20 10]]\n"
     ]
    }
   ],
   "execution_count": 35
  },
  {
   "metadata": {
    "ExecuteTime": {
     "end_time": "2025-01-11T06:57:03.475160Z",
     "start_time": "2025-01-11T06:57:03.464018Z"
    }
   },
   "cell_type": "code",
   "source": [
    "#reshaping array\n",
    "mat_3X2=np.array([[1,2],[3,4],[5,6]])\n",
    "print(\"3X2 matrix\\n\", mat_3X2)\n",
    "\n",
    "mat_2X3=mat_3X2.reshape(2,3)\n",
    "print(\"2X3 matrix\",mat_2X3 )\n",
    "print(\"3X2 matrix\",mat_3X2.reshape(3,2))\n",
    "#create 1d array respae to 3X3\n",
    "print(np.arange(1,30).reshape(3,3))\n",
    "\n"
   ],
   "id": "9c95d722cbe5eaef",
   "outputs": [
    {
     "name": "stdout",
     "output_type": "stream",
     "text": [
      "3X2 matrix\n",
      " [[1 2]\n",
      " [3 4]\n",
      " [5 6]]\n",
      "2X3 matrix [[1 2 3]\n",
      " [4 5 6]]\n",
      "3X2 matrix [[1 2]\n",
      " [3 4]\n",
      " [5 6]]\n",
      "[[1 3 5]\n",
      " [2 4 6]]\n"
     ]
    }
   ],
   "execution_count": 40
  },
  {
   "metadata": {
    "ExecuteTime": {
     "end_time": "2025-01-15T18:29:23.893523Z",
     "start_time": "2025-01-15T18:29:23.880719Z"
    }
   },
   "cell_type": "code",
   "source": [
    "#concatenation and splitting\n",
    "c1=np.ones((3,3))\n",
    "c2=np.zeros((3,3))\n",
    "c3=np.concatenate((c1,c2),axis=1)\n",
    "print(\"concatenated matrix\\n\",c3)\n",
    "#splittinh\n",
    "s1,s2=np.split(c3,[2])\n",
    "print(\"splitted matrix s1\\n\",s1)\n",
    "print(\"splitted matrix s2\\n\",s2)\n",
    "#vertical split\n",
    "vup,vlow=np.vsplit(c3,[1])\n",
    "print(\"vup \\n\",vup)\n",
    "print(\"vlow \\n\",vlow)\n",
    "#horizontal split\n",
    "hleft,hright=np.hsplit(c3,[1])\n",
    "print(\"hleft \\n\",hleft)\n",
    "print(\"hright \\n\",hright)\n"
   ],
   "id": "6db4bc7913e52895",
   "outputs": [
    {
     "name": "stdout",
     "output_type": "stream",
     "text": [
      "concatenated matrix\n",
      " [[1. 1. 1. 0. 0. 0.]\n",
      " [1. 1. 1. 0. 0. 0.]\n",
      " [1. 1. 1. 0. 0. 0.]]\n",
      "splitted matrix s1\n",
      " [[1. 1. 1. 0. 0. 0.]\n",
      " [1. 1. 1. 0. 0. 0.]]\n",
      "splitted matrix s2\n",
      " [[1. 1. 1. 0. 0. 0.]]\n",
      "vup \n",
      " [[1. 1. 1. 0. 0. 0.]]\n",
      "vlow \n",
      " [[1. 1. 1. 0. 0. 0.]\n",
      " [1. 1. 1. 0. 0. 0.]]\n",
      "hleft \n",
      " [[1.]\n",
      " [1.]\n",
      " [1.]]\n",
      "hright \n",
      " [[1. 1. 0. 0. 0.]\n",
      " [1. 1. 0. 0. 0.]\n",
      " [1. 1. 0. 0. 0.]]\n"
     ]
    }
   ],
   "execution_count": 20
  },
  {
   "metadata": {},
   "cell_type": "code",
   "outputs": [],
   "execution_count": null,
   "source": "",
   "id": "b3176d327493b898"
  }
 ],
 "metadata": {
  "kernelspec": {
   "display_name": "Python 3",
   "language": "python",
   "name": "python3"
  },
  "language_info": {
   "codemirror_mode": {
    "name": "ipython",
    "version": 2
   },
   "file_extension": ".py",
   "mimetype": "text/x-python",
   "name": "python",
   "nbconvert_exporter": "python",
   "pygments_lexer": "ipython2",
   "version": "2.7.6"
  }
 },
 "nbformat": 4,
 "nbformat_minor": 5
}
